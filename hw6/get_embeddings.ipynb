{
 "cells": [
  {
   "cell_type": "code",
   "execution_count": 1,
   "id": "1483701c",
   "metadata": {},
   "outputs": [
    {
     "name": "stderr",
     "output_type": "stream",
     "text": [
      "2025-09-29 01:35:32.943592: I tensorflow/core/platform/cpu_feature_guard.cc:210] This TensorFlow binary is optimized to use available CPU instructions in performance-critical operations.\n",
      "To enable the following instructions: AVX2 FMA, in other operations, rebuild TensorFlow with the appropriate compiler flags.\n"
     ]
    },
    {
     "data": {
      "application/vnd.jupyter.widget-view+json": {
       "model_id": "ddbd8caacce249859745066a4337f3cb",
       "version_major": 2,
       "version_minor": 0
      },
      "text/plain": [
       "Loading checkpoint shards:   0%|          | 0/4 [00:00<?, ?it/s]"
      ]
     },
     "metadata": {},
     "output_type": "display_data"
    }
   ],
   "source": [
    "from transformers import AutoTokenizer, AutoModel\n",
    "from transformers import BitsAndBytesConfig\n",
    "import torch\n",
    "import json\n",
    "import numpy as np\n",
    "\n",
    "# 8bit 量化配置\n",
    "bnb_config = BitsAndBytesConfig(\n",
    "    load_in_8bit=True,\n",
    "    bnb_8bit_compute_dtype=torch.float16,\n",
    "    bnb_8bit_use_double_quant=True,\n",
    ")\n",
    "\n",
    "# 加载 tokenizer + 模型\n",
    "tokenizer = AutoTokenizer.from_pretrained(\"Qwen/Qwen3-Embedding-8B\")\n",
    "model = AutoModel.from_pretrained(\n",
    "    \"Qwen3-Embedding-8B\",\n",
    "    device_map=\"auto\",\n",
    "    quantization_config=bnb_config,\n",
    ")"
   ]
  },
  {
   "cell_type": "code",
   "execution_count": 2,
   "id": "6d81ab83",
   "metadata": {},
   "outputs": [
    {
     "name": "stderr",
     "output_type": "stream",
     "text": [
      "Embedding questions: 100%|██████████| 17/17 [00:06<00:00,  2.59it/s]"
     ]
    },
    {
     "name": "stdout",
     "output_type": "stream",
     "text": [
      "Saved embeddings: torch.Size([132, 4096])\n"
     ]
    },
    {
     "name": "stderr",
     "output_type": "stream",
     "text": [
      "\n"
     ]
    }
   ],
   "source": [
    "from tqdm import tqdm\n",
    "# 切换到 eval\n",
    "model.eval()\n",
    "\n",
    "# 读取数据集\n",
    "questions = []\n",
    "with open(\"gsm8k_test_public.jsonl\", \"r\") as f:\n",
    "    for line in f:\n",
    "        data = json.loads(line)\n",
    "        questions.append(data[\"question\"])\n",
    "\n",
    "# 批量生成 embedding\n",
    "embeddings = []\n",
    "batch_size = 8\n",
    "for i in tqdm(range(0, len(questions), batch_size), desc=\"Embedding questions\"):\n",
    "    batch = questions[i:i+batch_size]\n",
    "    inputs = tokenizer(batch, padding=True, truncation=True, return_tensors=\"pt\").to(\"cuda\")\n",
    "    with torch.no_grad():\n",
    "        outputs = model(**inputs)\n",
    "        cls_emb = outputs.last_hidden_state[:, 0, :]  # CLS 池化\n",
    "        embeddings.append(cls_emb)\n",
    "\n",
    "embeddings = torch.cat(embeddings, dim=0)  # [num_questions, hidden_dim]\n",
    "\n",
    "# 保存\n",
    "np.save(\"gsm8k_test_public_embeddings.npy\", embeddings.cpu().numpy())\n",
    "print(\"Saved embeddings:\", embeddings.shape)"
   ]
  },
  {
   "cell_type": "code",
   "execution_count": 4,
   "id": "6f0614cf",
   "metadata": {},
   "outputs": [
    {
     "name": "stderr",
     "output_type": "stream",
     "text": [
      "Embedding questions: 100%|██████████| 935/935 [05:19<00:00,  2.92it/s]\n"
     ]
    },
    {
     "name": "stdout",
     "output_type": "stream",
     "text": [
      "Saved embeddings: torch.Size([7473, 4096])\n"
     ]
    }
   ],
   "source": [
    "from tqdm import tqdm\n",
    "# 切换到 eval\n",
    "model.eval()\n",
    "\n",
    "# 读取数据集\n",
    "questions = []\n",
    "with open(\"gsm8k_train.jsonl\", \"r\") as f:\n",
    "    for line in f:\n",
    "        data = json.loads(line)\n",
    "        questions.append(data[\"question\"])\n",
    "\n",
    "# 批量生成 embedding\n",
    "embeddings = []\n",
    "batch_size = 8\n",
    "for i in tqdm(range(0, len(questions), batch_size), desc=\"Embedding questions\"):\n",
    "    batch = questions[i:i+batch_size]\n",
    "    inputs = tokenizer(batch, padding=True, truncation=True, return_tensors=\"pt\").to(\"cuda\")\n",
    "    with torch.no_grad():\n",
    "        outputs = model(**inputs)\n",
    "        cls_emb = outputs.last_hidden_state[:, 0, :]  # CLS 池化\n",
    "        embeddings.append(cls_emb)\n",
    "\n",
    "embeddings = torch.cat(embeddings, dim=0)  # [num_questions, hidden_dim]\n",
    "\n",
    "# 保存\n",
    "np.save(\"gsm8k_train_embeddings.npy\", embeddings.cpu().numpy())\n",
    "print(\"Saved embeddings:\", embeddings.shape)"
   ]
  },
  {
   "cell_type": "code",
   "execution_count": null,
   "id": "193140dd",
   "metadata": {},
   "outputs": [],
   "source": [
    "from tqdm import tqdm\n",
    "# 切换到 eval\n",
    "model.eval()\n",
    "\n",
    "# 读取数据集\n",
    "questions = []\n",
    "with open(\"gsm8k_train_self-instruct.jsonl\", \"r\") as f:\n",
    "    for line in f:\n",
    "        data = json.loads(line)\n",
    "        questions.append(data[\"question\"])\n",
    "\n",
    "# 批量生成 embedding\n",
    "embeddings = []\n",
    "batch_size = 8\n",
    "for i in tqdm(range(0, len(questions), batch_size), desc=\"Embedding questions\"):\n",
    "    batch = questions[i:i+batch_size]\n",
    "    inputs = tokenizer(batch, padding=True, truncation=True, return_tensors=\"pt\").to(\"cuda\")\n",
    "    with torch.no_grad():\n",
    "        outputs = model(**inputs)\n",
    "        cls_emb = outputs.last_hidden_state[:, 0, :]  # CLS 池化\n",
    "        embeddings.append(cls_emb)\n",
    "\n",
    "embeddings = torch.cat(embeddings, dim=0)  # [num_questions, hidden_dim]\n",
    "\n",
    "# 保存\n",
    "np.save(\"gsm8k_instruct_embeddings.npy\", embeddings.cpu().numpy())\n",
    "print(\"Saved embeddings:\", embeddings.shape)"
   ]
  }
 ],
 "metadata": {
  "kernelspec": {
   "display_name": "trainenv",
   "language": "python",
   "name": "python3"
  },
  "language_info": {
   "codemirror_mode": {
    "name": "ipython",
    "version": 3
   },
   "file_extension": ".py",
   "mimetype": "text/x-python",
   "name": "python",
   "nbconvert_exporter": "python",
   "pygments_lexer": "ipython3",
   "version": "3.10.18"
  }
 },
 "nbformat": 4,
 "nbformat_minor": 5
}
