{
 "cells": [
  {
   "cell_type": "markdown",
   "id": "f69f785e",
   "metadata": {
    "papermill": {
     "duration": 0.00371,
     "end_time": "2023-11-13T03:18:02.984601",
     "exception": false,
     "start_time": "2023-11-13T03:18:02.980891",
     "status": "completed"
    },
    "tags": []
   },
   "source": [
    "# ML2023Spring-hw1\n",
    "## National Taiwan University Machine Learning(EE5184) 's homework1, taught by Hung,yi Lee in 2023\n",
    "Competition page: https://www.kaggle.com/competitions/ml2023spring-hw1"
   ]
  },
  {
   "cell_type": "code",
   "execution_count": 1,
   "id": "27daefbb",
   "metadata": {
    "execution": {
     "iopub.execute_input": "2023-11-13T03:18:02.992771Z",
     "iopub.status.busy": "2023-11-13T03:18:02.992396Z",
     "iopub.status.idle": "2023-11-13T03:18:03.001753Z",
     "shell.execute_reply": "2023-11-13T03:18:03.000908Z"
    },
    "papermill": {
     "duration": 0.015707,
     "end_time": "2023-11-13T03:18:03.003588",
     "exception": false,
     "start_time": "2023-11-13T03:18:02.987881",
     "status": "completed"
    },
    "tags": []
   },
   "outputs": [],
   "source": [
    "import warnings\n",
    "warnings.filterwarnings('ignore')"
   ]
  },
  {
   "cell_type": "code",
   "execution_count": 2,
   "id": "fdab93e4",
   "metadata": {
    "_cell_guid": "b1076dfc-b9ad-4769-8c92-a6c4dae69d19",
    "_uuid": "8f2839f25d086af736a60e9eeb907d3b93b6e0e5",
    "execution": {
     "iopub.execute_input": "2023-11-13T03:18:03.011862Z",
     "iopub.status.busy": "2023-11-13T03:18:03.011294Z",
     "iopub.status.idle": "2023-11-13T03:18:16.948075Z",
     "shell.execute_reply": "2023-11-13T03:18:16.946717Z"
    },
    "papermill": {
     "duration": 13.943531,
     "end_time": "2023-11-13T03:18:16.950495",
     "exception": false,
     "start_time": "2023-11-13T03:18:03.006964",
     "status": "completed"
    },
    "tags": []
   },
   "outputs": [],
   "source": [
    "import numpy as np\n",
    "import matplotlib.pyplot as plt\n",
    "import pandas as pd\n",
    "import tensorflow as tf\n",
    "from tensorflow import keras\n",
    "from keras.models import Sequential\n",
    "from keras.layers import Dense\n",
    "from keras.callbacks import LearningRateScheduler, ModelCheckpoint\n",
    "from keras.models import load_model\n",
    "from sklearn.model_selection import train_test_split\n",
    "\n",
    "\n",
    "# 复现结果\n",
    "# See https://keras.io/examples/keras_recipes/reproducibility_recipes/\n",
    "keras.utils.set_random_seed(42)\n",
    "\n",
    "# This will make TensorFlow ops as deterministic as possible, but it will\n",
    "# affect the overall performance, so it's not enabled by default.\n",
    "# `enable_op_determinism()` is introduced in TensorFlow 2.9.\n",
    "tf.config.experimental.enable_op_determinism()"
   ]
  },
  {
   "cell_type": "code",
   "execution_count": 3,
   "id": "b28ad2bd",
   "metadata": {
    "execution": {
     "iopub.execute_input": "2023-11-13T03:18:16.959688Z",
     "iopub.status.busy": "2023-11-13T03:18:16.958742Z",
     "iopub.status.idle": "2023-11-13T03:18:17.057823Z",
     "shell.execute_reply": "2023-11-13T03:18:17.056620Z"
    },
    "papermill": {
     "duration": 0.107009,
     "end_time": "2023-11-13T03:18:17.060833",
     "exception": false,
     "start_time": "2023-11-13T03:18:16.953824",
     "status": "completed"
    },
    "tags": []
   },
   "outputs": [],
   "source": [
    "#df_origin = pd.read_csv(\"/kaggle/input/ml2023spring-hw1/covid_train.csv\").drop(columns = ['id'])\n",
    "#df_test = pd.read_csv(\"/kaggle/input/ml2023spring-hw1/covid_test.csv\").drop(columns = ['id'])\n",
    "\n",
    "df_origin = pd.read_csv(\"/kaggle/input/hyleehw1/covid_train.csv\").drop(columns = ['id'])\n",
    "df_test = pd.read_csv(\"/kaggle/input/hyleehw1/covid_test.csv\").drop(columns = ['id'])"
   ]
  },
  {
   "cell_type": "markdown",
   "id": "96eebff2",
   "metadata": {
    "papermill": {
     "duration": 0.002838,
     "end_time": "2023-11-13T03:18:17.067015",
     "exception": false,
     "start_time": "2023-11-13T03:18:17.064177",
     "status": "completed"
    },
    "tags": []
   },
   "source": [
    "**比较关键的是特征选择，这个方向还可以再探索一下**"
   ]
  },
  {
   "cell_type": "code",
   "execution_count": 4,
   "id": "9f2a73ea",
   "metadata": {
    "execution": {
     "iopub.execute_input": "2023-11-13T03:18:17.075189Z",
     "iopub.status.busy": "2023-11-13T03:18:17.074485Z",
     "iopub.status.idle": "2023-11-13T03:18:17.100477Z",
     "shell.execute_reply": "2023-11-13T03:18:17.099061Z"
    },
    "papermill": {
     "duration": 0.032515,
     "end_time": "2023-11-13T03:18:17.102554",
     "exception": false,
     "start_time": "2023-11-13T03:18:17.070039",
     "status": "completed"
    },
    "tags": []
   },
   "outputs": [
    {
     "data": {
      "text/html": [
       "<div>\n",
       "<style scoped>\n",
       "    .dataframe tbody tr th:only-of-type {\n",
       "        vertical-align: middle;\n",
       "    }\n",
       "\n",
       "    .dataframe tbody tr th {\n",
       "        vertical-align: top;\n",
       "    }\n",
       "\n",
       "    .dataframe thead th {\n",
       "        text-align: right;\n",
       "    }\n",
       "</style>\n",
       "<table border=\"1\" class=\"dataframe\">\n",
       "  <thead>\n",
       "    <tr style=\"text-align: right;\">\n",
       "      <th></th>\n",
       "      <th>cli</th>\n",
       "      <th>wnohh_cmnty_cli</th>\n",
       "      <th>tested_positive</th>\n",
       "      <th>cli.1</th>\n",
       "      <th>wnohh_cmnty_cli.1</th>\n",
       "      <th>cli.2</th>\n",
       "      <th>wnohh_cmnty_cli.2</th>\n",
       "      <th>tested_positive.1</th>\n",
       "    </tr>\n",
       "  </thead>\n",
       "  <tbody>\n",
       "    <tr>\n",
       "      <th>0</th>\n",
       "      <td>1.509413</td>\n",
       "      <td>18.583362</td>\n",
       "      <td>20.149280</td>\n",
       "      <td>1.451798</td>\n",
       "      <td>17.684337</td>\n",
       "      <td>1.308107</td>\n",
       "      <td>17.194312</td>\n",
       "      <td>18.876155</td>\n",
       "    </tr>\n",
       "    <tr>\n",
       "      <th>1</th>\n",
       "      <td>1.451798</td>\n",
       "      <td>17.684337</td>\n",
       "      <td>18.876155</td>\n",
       "      <td>1.308107</td>\n",
       "      <td>17.194312</td>\n",
       "      <td>1.406672</td>\n",
       "      <td>16.733442</td>\n",
       "      <td>18.490787</td>\n",
       "    </tr>\n",
       "    <tr>\n",
       "      <th>2</th>\n",
       "      <td>1.308107</td>\n",
       "      <td>17.194312</td>\n",
       "      <td>18.490787</td>\n",
       "      <td>1.406672</td>\n",
       "      <td>16.733442</td>\n",
       "      <td>1.381060</td>\n",
       "      <td>16.580258</td>\n",
       "      <td>16.329253</td>\n",
       "    </tr>\n",
       "    <tr>\n",
       "      <th>3</th>\n",
       "      <td>1.406672</td>\n",
       "      <td>16.733442</td>\n",
       "      <td>16.329253</td>\n",
       "      <td>1.381060</td>\n",
       "      <td>16.580258</td>\n",
       "      <td>1.307137</td>\n",
       "      <td>17.291188</td>\n",
       "      <td>16.522931</td>\n",
       "    </tr>\n",
       "    <tr>\n",
       "      <th>4</th>\n",
       "      <td>1.381060</td>\n",
       "      <td>16.580258</td>\n",
       "      <td>16.522931</td>\n",
       "      <td>1.307137</td>\n",
       "      <td>17.291188</td>\n",
       "      <td>1.206659</td>\n",
       "      <td>16.705053</td>\n",
       "      <td>15.578501</td>\n",
       "    </tr>\n",
       "    <tr>\n",
       "      <th>...</th>\n",
       "      <td>...</td>\n",
       "      <td>...</td>\n",
       "      <td>...</td>\n",
       "      <td>...</td>\n",
       "      <td>...</td>\n",
       "      <td>...</td>\n",
       "      <td>...</td>\n",
       "      <td>...</td>\n",
       "    </tr>\n",
       "    <tr>\n",
       "      <th>3004</th>\n",
       "      <td>1.145430</td>\n",
       "      <td>11.825744</td>\n",
       "      <td>6.549525</td>\n",
       "      <td>1.121511</td>\n",
       "      <td>11.772172</td>\n",
       "      <td>1.049163</td>\n",
       "      <td>11.764646</td>\n",
       "      <td>5.910541</td>\n",
       "    </tr>\n",
       "    <tr>\n",
       "      <th>3005</th>\n",
       "      <td>1.121511</td>\n",
       "      <td>11.772172</td>\n",
       "      <td>5.910541</td>\n",
       "      <td>1.049163</td>\n",
       "      <td>11.764646</td>\n",
       "      <td>1.210881</td>\n",
       "      <td>12.415059</td>\n",
       "      <td>6.487310</td>\n",
       "    </tr>\n",
       "    <tr>\n",
       "      <th>3006</th>\n",
       "      <td>1.049163</td>\n",
       "      <td>11.764646</td>\n",
       "      <td>6.487310</td>\n",
       "      <td>1.210881</td>\n",
       "      <td>12.415059</td>\n",
       "      <td>1.257293</td>\n",
       "      <td>12.270085</td>\n",
       "      <td>6.112827</td>\n",
       "    </tr>\n",
       "    <tr>\n",
       "      <th>3007</th>\n",
       "      <td>1.210881</td>\n",
       "      <td>12.415059</td>\n",
       "      <td>6.112827</td>\n",
       "      <td>1.257293</td>\n",
       "      <td>12.270085</td>\n",
       "      <td>1.647812</td>\n",
       "      <td>13.535265</td>\n",
       "      <td>6.151394</td>\n",
       "    </tr>\n",
       "    <tr>\n",
       "      <th>3008</th>\n",
       "      <td>1.257293</td>\n",
       "      <td>12.270085</td>\n",
       "      <td>6.151394</td>\n",
       "      <td>1.647812</td>\n",
       "      <td>13.535265</td>\n",
       "      <td>1.704695</td>\n",
       "      <td>13.017151</td>\n",
       "      <td>7.165580</td>\n",
       "    </tr>\n",
       "  </tbody>\n",
       "</table>\n",
       "<p>3009 rows × 8 columns</p>\n",
       "</div>"
      ],
      "text/plain": [
       "           cli  wnohh_cmnty_cli  tested_positive     cli.1  wnohh_cmnty_cli.1  \\\n",
       "0     1.509413        18.583362        20.149280  1.451798          17.684337   \n",
       "1     1.451798        17.684337        18.876155  1.308107          17.194312   \n",
       "2     1.308107        17.194312        18.490787  1.406672          16.733442   \n",
       "3     1.406672        16.733442        16.329253  1.381060          16.580258   \n",
       "4     1.381060        16.580258        16.522931  1.307137          17.291188   \n",
       "...        ...              ...              ...       ...                ...   \n",
       "3004  1.145430        11.825744         6.549525  1.121511          11.772172   \n",
       "3005  1.121511        11.772172         5.910541  1.049163          11.764646   \n",
       "3006  1.049163        11.764646         6.487310  1.210881          12.415059   \n",
       "3007  1.210881        12.415059         6.112827  1.257293          12.270085   \n",
       "3008  1.257293        12.270085         6.151394  1.647812          13.535265   \n",
       "\n",
       "         cli.2  wnohh_cmnty_cli.2  tested_positive.1  \n",
       "0     1.308107          17.194312          18.876155  \n",
       "1     1.406672          16.733442          18.490787  \n",
       "2     1.381060          16.580258          16.329253  \n",
       "3     1.307137          17.291188          16.522931  \n",
       "4     1.206659          16.705053          15.578501  \n",
       "...        ...                ...                ...  \n",
       "3004  1.049163          11.764646           5.910541  \n",
       "3005  1.210881          12.415059           6.487310  \n",
       "3006  1.257293          12.270085           6.112827  \n",
       "3007  1.647812          13.535265           6.151394  \n",
       "3008  1.704695          13.017151           7.165580  \n",
       "\n",
       "[3009 rows x 8 columns]"
      ]
     },
     "execution_count": 4,
     "metadata": {},
     "output_type": "execute_result"
    }
   ],
   "source": [
    "list_column_features = [34, 36, 51, 52, 54, 70, 72, 69]\n",
    "\n",
    "df_features = df_origin.iloc[:, list_column_features]\n",
    "df_test = df_test.loc[:, df_features.columns]\n",
    "\n",
    "df_features"
   ]
  },
  {
   "cell_type": "code",
   "execution_count": 5,
   "id": "65787326",
   "metadata": {
    "execution": {
     "iopub.execute_input": "2023-11-13T03:18:17.110957Z",
     "iopub.status.busy": "2023-11-13T03:18:17.110616Z",
     "iopub.status.idle": "2023-11-13T03:18:17.115697Z",
     "shell.execute_reply": "2023-11-13T03:18:17.114535Z"
    },
    "papermill": {
     "duration": 0.011573,
     "end_time": "2023-11-13T03:18:17.117669",
     "exception": false,
     "start_time": "2023-11-13T03:18:17.106096",
     "status": "completed"
    },
    "tags": []
   },
   "outputs": [],
   "source": [
    "series_y = df_origin.iloc[:, -1]"
   ]
  },
  {
   "cell_type": "code",
   "execution_count": 6,
   "id": "54ad45b8",
   "metadata": {
    "execution": {
     "iopub.execute_input": "2023-11-13T03:18:17.126137Z",
     "iopub.status.busy": "2023-11-13T03:18:17.125779Z",
     "iopub.status.idle": "2023-11-13T03:18:17.133869Z",
     "shell.execute_reply": "2023-11-13T03:18:17.132376Z"
    },
    "papermill": {
     "duration": 0.015587,
     "end_time": "2023-11-13T03:18:17.136677",
     "exception": false,
     "start_time": "2023-11-13T03:18:17.121090",
     "status": "completed"
    },
    "tags": []
   },
   "outputs": [],
   "source": [
    "X_train, X_val, Y_train, Y_val = train_test_split(df_features, series_y, test_size = 0.1)"
   ]
  },
  {
   "cell_type": "code",
   "execution_count": 7,
   "id": "b4068980",
   "metadata": {
    "execution": {
     "iopub.execute_input": "2023-11-13T03:18:17.146755Z",
     "iopub.status.busy": "2023-11-13T03:18:17.145838Z",
     "iopub.status.idle": "2023-11-13T03:18:17.545935Z",
     "shell.execute_reply": "2023-11-13T03:18:17.544484Z"
    },
    "papermill": {
     "duration": 0.407978,
     "end_time": "2023-11-13T03:18:17.548542",
     "exception": false,
     "start_time": "2023-11-13T03:18:17.140564",
     "status": "completed"
    },
    "tags": []
   },
   "outputs": [],
   "source": [
    "model = Sequential()\n",
    "    \n",
    "model.add(Dense(16, activation='relu', input_shape=(df_features.shape[1],)))\n",
    "model.add(Dense(8, activation='relu'))\n",
    "model.add(Dense(1))\n",
    "    \n",
    "model.compile(loss='mean_squared_error', optimizer='adam')"
   ]
  },
  {
   "cell_type": "code",
   "execution_count": 8,
   "id": "05a280a7",
   "metadata": {
    "execution": {
     "iopub.execute_input": "2023-11-13T03:18:17.556989Z",
     "iopub.status.busy": "2023-11-13T03:18:17.556623Z",
     "iopub.status.idle": "2023-11-13T03:19:02.760635Z",
     "shell.execute_reply": "2023-11-13T03:19:02.758894Z"
    },
    "papermill": {
     "duration": 45.211067,
     "end_time": "2023-11-13T03:19:02.763189",
     "exception": false,
     "start_time": "2023-11-13T03:18:17.552122",
     "status": "completed"
    },
    "tags": []
   },
   "outputs": [],
   "source": [
    "lr_scheduler = LearningRateScheduler(lambda x: 0.01 * 0.5 ** (x // 100))\n",
    "model_checkpoint = ModelCheckpoint(filepath='best_model.h5', monitor='val_loss', save_best_only=True)\n",
    "\n",
    "history = model.fit(df_features, series_y, \n",
    "                    epochs=600, # 对于这个模型而言，600是个合适的选择，增大到1000会导致过拟合\n",
    "                    batch_size=128, \n",
    "                    verbose=0, \n",
    "                    callbacks=[lr_scheduler, model_checkpoint],\n",
    "                    validation_data=(X_val, Y_val))\n",
    "    \n",
    "model_best = load_model('best_model.h5')"
   ]
  },
  {
   "cell_type": "code",
   "execution_count": 9,
   "id": "5edd439c",
   "metadata": {
    "execution": {
     "iopub.execute_input": "2023-11-13T03:19:02.772617Z",
     "iopub.status.busy": "2023-11-13T03:19:02.772218Z",
     "iopub.status.idle": "2023-11-13T03:19:03.023347Z",
     "shell.execute_reply": "2023-11-13T03:19:03.022021Z"
    },
    "papermill": {
     "duration": 0.258676,
     "end_time": "2023-11-13T03:19:03.025597",
     "exception": false,
     "start_time": "2023-11-13T03:19:02.766921",
     "status": "completed"
    },
    "tags": []
   },
   "outputs": [
    {
     "data": {
      "image/png": "[encoded data removed]",
      "text/plain": [
       "<Figure size 640x480 with 1 Axes>"
      ]
     },
     "metadata": {},
     "output_type": "display_data"
    }
   ],
   "source": [
    "plt.plot(np.log(history.history['loss']), label='train_loss')\n",
    "plt.plot(np.log(history.history['val_loss']), label='val_loss')\n",
    "plt.title('Training and Validation Loss')\n",
    "plt.xlabel('Epochs')\n",
    "plt.ylabel('Log(Loss)')\n",
    "plt.legend()\n",
    "plt.show()"
   ]
  },
  {
   "cell_type": "code",
   "execution_count": 10,
   "id": "06b578d8",
   "metadata": {
    "execution": {
     "iopub.execute_input": "2023-11-13T03:19:03.035199Z",
     "iopub.status.busy": "2023-11-13T03:19:03.034732Z",
     "iopub.status.idle": "2023-11-13T03:19:03.261558Z",
     "shell.execute_reply": "2023-11-13T03:19:03.260285Z"
    },
    "papermill": {
     "duration": 0.234802,
     "end_time": "2023-11-13T03:19:03.264432",
     "exception": false,
     "start_time": "2023-11-13T03:19:03.029630",
     "status": "completed"
    },
    "tags": []
   },
   "outputs": [],
   "source": [
    "pred = model_best.predict(df_test, verbose=0)\n",
    "pd.DataFrame(pred).reset_index().to_csv(\"sub.csv\", header=['id', 'tested_positive'], index=False)"
   ]
  },
  {
   "cell_type": "markdown",
   "id": "36dd31eb",
   "metadata": {
    "papermill": {
     "duration": 0.003805,
     "end_time": "2023-11-13T03:19:03.272330",
     "exception": false,
     "start_time": "2023-11-13T03:19:03.268525",
     "status": "completed"
    },
    "tags": []
   },
   "source": [
    "Public Score ≈ 0.79631, Private Score ≈ 0.84217"
   ]
  }
 ],
 "metadata": {
  "kernelspec": {
   "display_name": "trainenv",
   "language": "python",
   "name": "python3"
  },
  "language_info": {
   "codemirror_mode": {
    "name": "ipython",
    "version": 3
   },
   "file_extension": ".py",
   "mimetype": "text/x-python",
   "name": "python",
   "nbconvert_exporter": "python",
   "pygments_lexer": "ipython3",
   "version": "3.10.18"
  },
  "papermill": {
   "default_parameters": {},
   "duration": 65.21025,
   "end_time": "2023-11-13T03:19:05.540225",
   "environment_variables": {},
   "exception": null,
   "input_path": "__notebook__.ipynb",
   "output_path": "__notebook__.ipynb",
   "parameters": {},
   "start_time": "2023-11-13T03:18:00.329975",
   "version": "2.4.0"
  }
 },
 "nbformat": 4,
 "nbformat_minor": 5
}
