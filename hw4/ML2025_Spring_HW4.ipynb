{
 "cells": [
  {
   "cell_type": "markdown",
   "metadata": {
    "id": "QUwfibz3pw_R"
   },
   "source": [
    "# Training Transformer\n",
    "\n",
    "### TA's Slide\n",
    "[Slide](https://docs.google.com/presentation/d/1ga0d43mWyrfHjdkp7FG3iWcEKTGr8CdkifYhhi4LBY8/edit?usp=sharing)\n",
    "\n",
    "### Description\n",
    "In this assignment, we are tasked with utilizing a transformer decoder-only architecture for pretraining, with a focus on next-token prediction, applied to Pokémon images.\n",
    "\n",
    "Please feel free to mail us if you have any questions.\n",
    "\n",
    "ntu-ml-2025-spring-ta@googlegroups.com"
   ]
  },
  {
   "cell_type": "markdown",
   "metadata": {
    "id": "8TSNIY5SAZUR"
   },
   "source": [
    "# Utilities"
   ]
  },
  {
   "cell_type": "markdown",
   "metadata": {
    "id": "LlFjd2Jya7Me"
   },
   "source": [
    "### Download packages"
   ]
  },
  {
   "cell_type": "markdown",
   "metadata": {
    "id": "kY7XIt-Msf5K"
   },
   "source": [
    "### Import Packages"
   ]
  },
  {
   "cell_type": "code",
   "execution_count": 1,
   "metadata": {},
   "outputs": [],
   "source": [
    "import os\n",
    "import matplotlib.pyplot as plt\n",
    "import numpy as np\n",
    "import torch\n",
    "import torch.optim as optim\n",
    "from PIL import Image\n",
    "from torch import nn\n",
    "from torch.utils.data import DataLoader, Dataset\n",
    "from tqdm import tqdm\n",
    "from transformers import AutoModelForCausalLM, GPT2Config, set_seed\n",
    "from datasets import load_dataset\n",
    "from typing import Dict, Any, Optional"
   ]
  },
  {
   "cell_type": "markdown",
   "metadata": {
    "id": "WixuPQuGbG_z"
   },
   "source": [
    "### Check Devices"
   ]
  },
  {
   "cell_type": "markdown",
   "metadata": {
    "id": "plHUxP_oeh2U"
   },
   "source": [
    "### Set Random Seed"
   ]
  },
  {
   "cell_type": "code",
   "execution_count": 2,
   "metadata": {},
   "outputs": [],
   "source": [
    "set_seed(0)"
   ]
  },
  {
   "cell_type": "markdown",
   "metadata": {
    "id": "w4p3ErI1AaYq"
   },
   "source": [
    "# Prepare Data"
   ]
  },
  {
   "cell_type": "markdown",
   "metadata": {
    "id": "1J0xr161bREA"
   },
   "source": [
    "### Define Dataset"
   ]
  },
  {
   "cell_type": "code",
   "execution_count": 3,
   "metadata": {},
   "outputs": [],
   "source": [
    "from typing import List, Tuple, Union\n",
    "import torch\n",
    "from torch.utils.data import Dataset\n",
    "\n",
    "class PixelSequenceDataset(Dataset):\n",
    "    def __init__(self, data: List[List[int]], mode: str = \"train\"):\n",
    "        \"\"\"\n",
    "        A dataset class for handling pixel sequences.\n",
    "\n",
    "        Args:\n",
    "            data (List[List[int]]): A list of sequences, where each sequence is a list of integers.\n",
    "            mode (str): The mode of operation, either \"train\", \"dev\", or \"test\".\n",
    "                - \"train\": Returns (input_ids, labels) where input_ids are sequence[:-1] and labels are sequence[1:].\n",
    "                - \"dev\": Returns (input_ids, labels) where input_ids are sequence[:-160] and labels are sequence[-160:].\n",
    "                - \"test\": Returns only input_ids, as labels are not available.\n",
    "        \"\"\"\n",
    "        self.data = data\n",
    "        self.mode = mode\n",
    "\n",
    "    def __len__(self) -> int:\n",
    "        \"\"\"Returns the total number of sequences in the dataset.\"\"\"\n",
    "        return len(self.data)\n",
    "\n",
    "    def __getitem__(self, idx: int) -> Union[Tuple[torch.Tensor, torch.Tensor], torch.Tensor]:\n",
    "        \"\"\"\n",
    "        Fetches a sequence from the dataset and processes it based on the mode.\n",
    "\n",
    "        Args:\n",
    "            idx (int): The index of the sequence.\n",
    "\n",
    "        Returns:\n",
    "            - If mode == \"train\": Tuple[torch.Tensor, torch.Tensor] -> (input_ids, labels)\n",
    "            - If mode == \"dev\": Tuple[torch.Tensor, torch.Tensor] -> (input_ids, labels)\n",
    "            - If mode == \"test\": torch.Tensor -> input_ids\n",
    "        \"\"\"\n",
    "        sequence = self.data[idx]\n",
    "\n",
    "        if self.mode == \"train\":\n",
    "            input_ids = torch.tensor(sequence[:-1], dtype=torch.long)\n",
    "            labels = torch.tensor(sequence[1:], dtype=torch.long)\n",
    "            return input_ids, labels\n",
    "\n",
    "        elif self.mode == \"dev\":\n",
    "            input_ids = torch.tensor(sequence[:-160], dtype=torch.long)\n",
    "            labels = torch.tensor(sequence[-160:], dtype=torch.long)\n",
    "            return input_ids, labels\n",
    "\n",
    "        elif self.mode == \"test\":\n",
    "            input_ids = torch.tensor(sequence, dtype=torch.long)\n",
    "            return input_ids\n",
    "\n",
    "        raise ValueError(f\"Invalid mode: {self.mode}. Choose from 'train', 'dev', or 'test'.\")"
   ]
  },
  {
   "cell_type": "markdown",
   "metadata": {
    "id": "zY6TJDuNbdTr"
   },
   "source": [
    "### Download Dataset & Prepare Dataloader"
   ]
  },
  {
   "cell_type": "code",
   "execution_count": 4,
   "metadata": {},
   "outputs": [],
   "source": [
    "# Load the pokemon dataset from Hugging Face Hub\n",
    "pokemon_dataset = load_dataset(\"lca0503/ml2025-hw4-pokemon\")\n",
    "\n",
    "# Load the colormap from Hugging Face Hub\n",
    "colormap = list(load_dataset(\"lca0503/ml2025-hw4-colormap\")[\"train\"][\"color\"])\n",
    "\n",
    "# Define number of classes\n",
    "num_classes = len(colormap)\n",
    "\n",
    "# Define batch size\n",
    "batch_size = 16\n",
    "\n",
    "# === Prepare Dataset and DataLoader for Training ===\n",
    "train_dataset: PixelSequenceDataset = PixelSequenceDataset(\n",
    "    pokemon_dataset[\"train\"][\"pixel_color\"], mode=\"train\"\n",
    ")\n",
    "train_dataloader: DataLoader = DataLoader(\n",
    "    train_dataset, batch_size=batch_size, shuffle=True\n",
    ")\n",
    "\n",
    "# === Prepare Dataset and DataLoader for Validation ===\n",
    "dev_dataset: PixelSequenceDataset = PixelSequenceDataset(\n",
    "    pokemon_dataset[\"dev\"][\"pixel_color\"], mode=\"dev\"\n",
    ")\n",
    "dev_dataloader: DataLoader = DataLoader(\n",
    "    dev_dataset, batch_size=batch_size, shuffle=False\n",
    ")\n",
    "\n",
    "# === Prepare Dataset and DataLoader for Testing ===\n",
    "test_dataset: PixelSequenceDataset = PixelSequenceDataset(\n",
    "    pokemon_dataset[\"test\"][\"pixel_color\"], mode=\"test\"\n",
    ")\n",
    "test_dataloader: DataLoader = DataLoader(\n",
    "    test_dataset, batch_size=batch_size, shuffle=False\n",
    ")"
   ]
  },
  {
   "cell_type": "markdown",
   "metadata": {
    "id": "Ink91WB5BGxv"
   },
   "source": [
    "### Visualization"
   ]
  },
  {
   "cell_type": "code",
   "execution_count": 5,
   "metadata": {},
   "outputs": [],
   "source": [
    "def pixel_to_image(pixel_color: List[int], colormap: List[List[int]]) -> Image.Image:\n",
    "    \"\"\"\n",
    "    Converts a list of pixel indices into a 20x20 RGB image using a colormap.\n",
    "\n",
    "    Args:\n",
    "        pixel_color (List[int]): A list of pixel indices representing colors.\n",
    "        colormap (List[List[int]]): A list where each index maps to an RGB color [R, G, B].\n",
    "\n",
    "    Returns:\n",
    "        Image.Image: A PIL Image object representing the reconstructed image.\n",
    "    \"\"\"\n",
    "    # Ensure the pixel_color list has at least 400 elements (pad with 0s if needed)\n",
    "    while len(pixel_color) < 400:\n",
    "        pixel_color.append(0)\n",
    "\n",
    "    # Map pixel indices to actual RGB colors using the colormap\n",
    "    pixel_data = [colormap[pixel] for pixel in pixel_color]\n",
    "\n",
    "    # Convert to numpy array and reshape to 20x20x3 (RGB image)\n",
    "    image_array = np.array(pixel_data, dtype=np.uint8).reshape(20, 20, 3)\n",
    "\n",
    "    # Create a PIL Image from the array\n",
    "    image = Image.fromarray(image_array)\n",
    "\n",
    "    return image\n",
    "\n",
    "def show_images(images: List[Image.Image]) -> None:\n",
    "    \"\"\"\n",
    "    Displays a grid of up to 96 images using Matplotlib.\n",
    "\n",
    "    Args:\n",
    "        images (List[Image.Image]): A list of PIL Image objects to display.\n",
    "\n",
    "    Returns:\n",
    "        None\n",
    "    \"\"\"\n",
    "    num_images = min(96, len(images))  # Limit to 96 images\n",
    "\n",
    "    # Set up the figure size and grid layout (6 rows, 16 columns)\n",
    "    fig, axes = plt.subplots(6, 16, figsize=(16, 6))\n",
    "    axes = axes.flatten()  # Flatten to make iteration easier\n",
    "\n",
    "    # Loop through images and display each one in the grid\n",
    "    for i, ax in enumerate(axes):\n",
    "        if i < num_images:\n",
    "            ax.imshow(images[i])\n",
    "            ax.axis('off')  # Hide axis\n",
    "        else:\n",
    "            ax.axis('off')  # Hide unused subplots\n",
    "\n",
    "    plt.tight_layout()  # Adjust layout to prevent overlap\n",
    "    plt.show()"
   ]
  },
  {
   "cell_type": "code",
   "execution_count": 6,
   "metadata": {},
   "outputs": [
    {
     "data": {
      "image/png": "[encoded data removed]",
      "text/plain": [
       "<Figure size 1600x600 with 96 Axes>"
      ]
     },
     "metadata": {},
     "output_type": "display_data"
    }
   ],
   "source": [
    "# Visualize train images\n",
    "train_images = [pixel_to_image(data[\"pixel_color\"], colormap) for data in pokemon_dataset[\"train\"]]\n",
    "show_images(train_images)"
   ]
  },
  {
   "cell_type": "code",
   "execution_count": 7,
   "metadata": {},
   "outputs": [
    {
     "data": {
      "image/png": "[encoded data removed]",
      "text/plain": [
       "<Figure size 1600x600 with 96 Axes>"
      ]
     },
     "metadata": {},
     "output_type": "display_data"
    }
   ],
   "source": [
    "# Visualize test images\n",
    "test_images = [pixel_to_image(data[\"pixel_color\"], colormap) for data in pokemon_dataset[\"test\"]]\n",
    "show_images(test_images)"
   ]
  },
  {
   "cell_type": "markdown",
   "metadata": {
    "id": "wjbJUIxzBNEH"
   },
   "source": [
    "# Prepare Model"
   ]
  },
  {
   "cell_type": "markdown",
   "metadata": {
    "id": "o541odctzSc9"
   },
   "source": [
    "### Model Configuration\n",
    "Here, we define the model configuration, including the architecture and key hyperparameters such as the number of attention heads, layers, embedding size, and more.\n",
    "*   Hint 1: Adjust hyperparameters here for improved performance.\n",
    "*   Hint 2: Experiment with different model architectures, such as Llama, Mistral, or Qwen, to enhance performance.\n",
    "  * [LlamaConfig](https://huggingface.co/docs/transformers/model_doc/llama#transformers.LlamaConfig)\n",
    "  * [MistralConfig](https://huggingface.co/docs/transformers/model_doc/mistral#transformers.MistralConfig)\n",
    "  * [Qwen2Config](https://huggingface.co/docs/transformers/model_doc/qwen2#transformers.Qwen2Config)\n"
   ]
  },
  {
   "cell_type": "code",
   "execution_count": 21,
   "metadata": {},
   "outputs": [],
   "source": [
    "# Define GPT-2 model configuration as a dictionary\n",
    "gpt2_config = {\n",
    "    \"activation_function\": \"gelu_new\",    # Activation function used in the model\n",
    "    \"architectures\": [\"GPT2LMHeadModel\"],  # Specifies the model type\n",
    "    \"attn_pdrop\": 0.1,            # Dropout rate for attention layers\n",
    "    \"embd_pdrop\": 0.1,            # Dropout rate for embeddings\n",
    "    \"initializer_range\": 0.02,        # Standard deviation for weight initialization\n",
    "    \"layer_norm_epsilon\": 1e-05,       # Small constant to improve numerical stability in layer norm\n",
    "    \"model_type\": \"gpt2\",           # Type of model\n",
    "    \"n_ctx\": 128,               # Context size (maximum sequence length)\n",
    "    \"n_embd\": 64,              # Embedding size\n",
    "    \"n_head\": 4,               # Number of attention heads\n",
    "    \"n_layer\": 6,              # Number of transformer layers\n",
    "    \"n_positions\": 400,           # Maximum number of token positions\n",
    "    \"resid_pdrop\": 0.1,           # Dropout rate for residual connections\n",
    "    \"vocab_size\": num_classes,       # Number of unique tokens in vocabulary\n",
    "    \"pad_token_id\": None,          # Padding token ID (None means no padding token)\n",
    "    \"eos_token_id\": None,          # End-of-sequence token ID (None means not explicitly defined)\n",
    "}\n",
    "\n",
    "# Load GPT-2 model configuration from dictionary\n",
    "config = GPT2Config.from_dict(gpt2_config)"
   ]
  },
  {
   "cell_type": "markdown",
   "metadata": {
    "id": "JCOELUm4ujej"
   },
   "source": [
    "### Load Model"
   ]
  },
  {
   "cell_type": "code",
   "execution_count": 22,
   "metadata": {},
   "outputs": [
    {
     "name": "stdout",
     "output_type": "stream",
     "text": [
      "GPT2LMHeadModel(\n",
      "  (transformer): GPT2Model(\n",
      "    (wte): Embedding(167, 64)\n",
      "    (wpe): Embedding(400, 64)\n",
      "    (drop): Dropout(p=0.1, inplace=False)\n",
      "    (h): ModuleList(\n",
      "      (0-5): 6 x GPT2Block(\n",
      "        (ln_1): LayerNorm((64,), eps=1e-05, elementwise_affine=True)\n",
      "        (attn): GPT2Attention(\n",
      "          (c_attn): Conv1D(nf=192, nx=64)\n",
      "          (c_proj): Conv1D(nf=64, nx=64)\n",
      "          (attn_dropout): Dropout(p=0.1, inplace=False)\n",
      "          (resid_dropout): Dropout(p=0.1, inplace=False)\n",
      "        )\n",
      "        (ln_2): LayerNorm((64,), eps=1e-05, elementwise_affine=True)\n",
      "        (mlp): GPT2MLP(\n",
      "          (c_fc): Conv1D(nf=256, nx=64)\n",
      "          (c_proj): Conv1D(nf=64, nx=256)\n",
      "          (act): NewGELUActivation()\n",
      "          (dropout): Dropout(p=0.1, inplace=False)\n",
      "        )\n",
      "      )\n",
      "    )\n",
      "    (ln_f): LayerNorm((64,), eps=1e-05, elementwise_affine=True)\n",
      "  )\n",
      "  (lm_head): Linear(in_features=64, out_features=167, bias=False)\n",
      ")\n",
      "Trainable Parameters: 336,320\n"
     ]
    }
   ],
   "source": [
    "# Load the model using the configuration defined above\n",
    "model = AutoModelForCausalLM.from_config(config)\n",
    "\n",
    "print(model)\n",
    "\n",
    "# Count trainable parameters\n",
    "trainable_params = sum(p.numel() for p in model.parameters() if p.requires_grad)\n",
    "\n",
    "print(f\"Trainable Parameters: {trainable_params:,}\")"
   ]
  },
  {
   "cell_type": "markdown",
   "metadata": {},
   "source": []
  },
  {
   "cell_type": "markdown",
   "metadata": {
    "id": "flJizztpCT01"
   },
   "source": [
    "# Train and Inference"
   ]
  },
  {
   "cell_type": "markdown",
   "metadata": {
    "id": "d63rxnsCeHa9"
   },
   "source": [
    "### Training Arguments\n",
    "Here, we define the number of epochs for training, the learning rate, the optimizer, and the loss function.\n",
    "*   Hint 3: Adjust the number of epochs and learning rate here to improve performance."
   ]
  },
  {
   "cell_type": "code",
   "execution_count": 23,
   "metadata": {},
   "outputs": [],
   "source": [
    "# Training Parameters\n",
    "epochs = 50                                     # Number of training epochs\n",
    "learning_rate = 1e-3                                 # Learning rate for optimizer\n",
    "device = torch.device(\"cuda\" if torch.cuda.is_available() else \"cpu\")     # Check if CUDA is available for GPU\n",
    "save_dir = \"checkpoints\"                               # Directory to save model checkpoints\n",
    "\n",
    "# Loss function and optimizer\n",
    "criterion = nn.CrossEntropyLoss()                          # Loss function for classification tasks\n",
    "optimizer = optim.AdamW(model.parameters(), lr=learning_rate, weight_decay=0.1) # AdamW optimizer with weight decay"
   ]
  },
  {
   "cell_type": "markdown",
   "metadata": {
    "id": "Xs2kjoD4d_bJ"
   },
   "source": [
    "### Save Model Function"
   ]
  },
  {
   "cell_type": "code",
   "execution_count": 25,
   "metadata": {},
   "outputs": [],
   "source": [
    "def save_model(model: torch.nn.Module, optimizer: torch.optim.Optimizer, epoch: int, loss: float, save_dir: str, filename: str = \"best_model.pth\") -> None:\n",
    "    \"\"\"\n",
    "    Saves the model state, optimizer state, current epoch, and loss to a specified directory.\n",
    "\n",
    "    Args:\n",
    "        model (torch.nn.Module): The PyTorch model to be saved.\n",
    "        optimizer (torch.optim.Optimizer): The optimizer whose state will be saved.\n",
    "        epoch (int): The current epoch number (used for checkpointing).\n",
    "        loss (float): The current loss value to track model performance.\n",
    "        save_dir (str): The directory where the model checkpoint will be saved.\n",
    "        filename (str, optional): The name of the file to save the model. Defaults to \"best_model.pth\".\n",
    "\n",
    "    Returns:\n",
    "        None\n",
    "    \"\"\"\n",
    "    # Construct the full path for saving the model checkpoint\n",
    "    save_path = os.path.join(save_dir, filename)\n",
    "\n",
    "    # Save the model, optimizer state, and additional metadata (epoch and loss)\n",
    "    torch.save({\n",
    "        'epoch': epoch + 1,                # Save epoch + 1 for easier tracking\n",
    "        'model_state_dict': model.state_dict(),       # Save model weights\n",
    "        'optimizer_state_dict': optimizer.state_dict(),  # Save optimizer state (important for resuming training)\n",
    "        'loss': loss                     # Save the current loss value\n",
    "    }, save_path)\n",
    "\n",
    "    # Print a confirmation message indicating the model has been saved\n",
    "    print(f\"Model saved at {save_path} (Loss: {loss:.4f}, Epoch: {epoch + 1})\")"
   ]
  },
  {
   "cell_type": "markdown",
   "metadata": {
    "id": "I0OqYrJxoxx9"
   },
   "source": [
    "### Train\n",
    "\n",
    "We save the checkpoint with the lowest training loss since validation set reconstruction accuracy doesn't directly reflect the model's image generation quality.\n",
    "*   Hint 4: Train a classifier to check if an image looks like a Pokémon or not. (Optional)"
   ]
  },
  {
   "cell_type": "code",
   "execution_count": 26,
   "metadata": {},
   "outputs": [
    {
     "name": "stderr",
     "output_type": "stream",
     "text": [
      "Training Epoch 1/50:  38%|███▊      | 15/40 [00:00<00:00, 33.99it/s]"
     ]
    },
    {
     "name": "stderr",
     "output_type": "stream",
     "text": [
      "Training Epoch 1/50: 100%|██████████| 40/40 [00:02<00:00, 19.27it/s]\n"
     ]
    },
    {
     "name": "stdout",
     "output_type": "stream",
     "text": [
      "Epoch 1/50, Loss: 3.8084\n"
     ]
    },
    {
     "name": "stderr",
     "output_type": "stream",
     "text": [
      "Evaluating: 100%|██████████| 5/5 [00:03<00:00,  1.39it/s]\n"
     ]
    },
    {
     "name": "stdout",
     "output_type": "stream",
     "text": [
      "Epoch 1/50, Reconstruction Accuracy: 0.4109\n",
      "Model saved at checkpoints/best_model.pth (Loss: 3.8084, Epoch: 1)\n"
     ]
    },
    {
     "name": "stderr",
     "output_type": "stream",
     "text": [
      "Training Epoch 2/50: 100%|██████████| 40/40 [00:01<00:00, 39.19it/s]\n"
     ]
    },
    {
     "name": "stdout",
     "output_type": "stream",
     "text": [
      "Epoch 2/50, Loss: 2.7562\n"
     ]
    },
    {
     "name": "stderr",
     "output_type": "stream",
     "text": [
      "Evaluating: 100%|██████████| 5/5 [00:05<00:00,  1.08s/it]\n"
     ]
    },
    {
     "name": "stdout",
     "output_type": "stream",
     "text": [
      "Epoch 2/50, Reconstruction Accuracy: 0.4065\n",
      "Model saved at checkpoints/best_model.pth (Loss: 2.7562, Epoch: 2)\n"
     ]
    },
    {
     "name": "stderr",
     "output_type": "stream",
     "text": [
      "Training Epoch 3/50: 100%|██████████| 40/40 [00:01<00:00, 38.01it/s]\n"
     ]
    },
    {
     "name": "stdout",
     "output_type": "stream",
     "text": [
      "Epoch 3/50, Loss: 2.4620\n"
     ]
    },
    {
     "name": "stderr",
     "output_type": "stream",
     "text": [
      "Evaluating: 100%|██████████| 5/5 [00:03<00:00,  1.55it/s]\n"
     ]
    },
    {
     "name": "stdout",
     "output_type": "stream",
     "text": [
      "Epoch 3/50, Reconstruction Accuracy: 0.4122\n",
      "Model saved at checkpoints/best_model.pth (Loss: 2.4620, Epoch: 3)\n"
     ]
    },
    {
     "name": "stderr",
     "output_type": "stream",
     "text": [
      "Training Epoch 4/50: 100%|██████████| 40/40 [00:01<00:00, 26.22it/s]\n"
     ]
    },
    {
     "name": "stdout",
     "output_type": "stream",
     "text": [
      "Epoch 4/50, Loss: 2.2990\n"
     ]
    },
    {
     "name": "stderr",
     "output_type": "stream",
     "text": [
      "Evaluating: 100%|██████████| 5/5 [00:03<00:00,  1.39it/s]\n"
     ]
    },
    {
     "name": "stdout",
     "output_type": "stream",
     "text": [
      "Epoch 4/50, Reconstruction Accuracy: 0.4052\n",
      "Model saved at checkpoints/best_model.pth (Loss: 2.2990, Epoch: 4)\n"
     ]
    },
    {
     "name": "stderr",
     "output_type": "stream",
     "text": [
      "Training Epoch 5/50: 100%|██████████| 40/40 [00:04<00:00,  8.66it/s]\n"
     ]
    },
    {
     "name": "stdout",
     "output_type": "stream",
     "text": [
      "Epoch 5/50, Loss: 2.1872\n"
     ]
    },
    {
     "name": "stderr",
     "output_type": "stream",
     "text": [
      "Evaluating: 100%|██████████| 5/5 [00:05<00:00,  1.15s/it]\n"
     ]
    },
    {
     "name": "stdout",
     "output_type": "stream",
     "text": [
      "Epoch 5/50, Reconstruction Accuracy: 0.4052\n",
      "Model saved at checkpoints/best_model.pth (Loss: 2.1872, Epoch: 5)\n"
     ]
    },
    {
     "name": "stderr",
     "output_type": "stream",
     "text": [
      "Training Epoch 6/50: 100%|██████████| 40/40 [00:01<00:00, 38.18it/s]\n"
     ]
    },
    {
     "name": "stdout",
     "output_type": "stream",
     "text": [
      "Epoch 6/50, Loss: 2.1086\n"
     ]
    },
    {
     "name": "stderr",
     "output_type": "stream",
     "text": [
      "Evaluating: 100%|██████████| 5/5 [00:15<00:00,  3.19s/it]\n"
     ]
    },
    {
     "name": "stdout",
     "output_type": "stream",
     "text": [
      "Epoch 6/50, Reconstruction Accuracy: 0.4084\n",
      "Model saved at checkpoints/best_model.pth (Loss: 2.1086, Epoch: 6)\n"
     ]
    },
    {
     "name": "stderr",
     "output_type": "stream",
     "text": [
      "Training Epoch 7/50: 100%|██████████| 40/40 [00:01<00:00, 38.85it/s]\n"
     ]
    },
    {
     "name": "stdout",
     "output_type": "stream",
     "text": [
      "Epoch 7/50, Loss: 2.0410\n"
     ]
    },
    {
     "name": "stderr",
     "output_type": "stream",
     "text": [
      "Evaluating: 100%|██████████| 5/5 [00:08<00:00,  1.73s/it]\n"
     ]
    },
    {
     "name": "stdout",
     "output_type": "stream",
     "text": [
      "Epoch 7/50, Reconstruction Accuracy: 0.4079\n",
      "Model saved at checkpoints/best_model.pth (Loss: 2.0410, Epoch: 7)\n"
     ]
    },
    {
     "name": "stderr",
     "output_type": "stream",
     "text": [
      "Training Epoch 8/50: 100%|██████████| 40/40 [00:00<00:00, 45.35it/s]\n"
     ]
    },
    {
     "name": "stdout",
     "output_type": "stream",
     "text": [
      "Epoch 8/50, Loss: 1.9864\n"
     ]
    },
    {
     "name": "stderr",
     "output_type": "stream",
     "text": [
      "Evaluating: 100%|██████████| 5/5 [00:03<00:00,  1.52it/s]\n"
     ]
    },
    {
     "name": "stdout",
     "output_type": "stream",
     "text": [
      "Epoch 8/50, Reconstruction Accuracy: 0.4063\n",
      "Model saved at checkpoints/best_model.pth (Loss: 1.9864, Epoch: 8)\n"
     ]
    },
    {
     "name": "stderr",
     "output_type": "stream",
     "text": [
      "Training Epoch 9/50: 100%|██████████| 40/40 [00:00<00:00, 42.09it/s]\n"
     ]
    },
    {
     "name": "stdout",
     "output_type": "stream",
     "text": [
      "Epoch 9/50, Loss: 1.9454\n"
     ]
    },
    {
     "name": "stderr",
     "output_type": "stream",
     "text": [
      "Evaluating: 100%|██████████| 5/5 [00:03<00:00,  1.42it/s]\n"
     ]
    },
    {
     "name": "stdout",
     "output_type": "stream",
     "text": [
      "Epoch 9/50, Reconstruction Accuracy: 0.4006\n",
      "Model saved at checkpoints/best_model.pth (Loss: 1.9454, Epoch: 9)\n"
     ]
    },
    {
     "name": "stderr",
     "output_type": "stream",
     "text": [
      "Training Epoch 10/50: 100%|██████████| 40/40 [00:04<00:00,  9.25it/s]\n"
     ]
    },
    {
     "name": "stdout",
     "output_type": "stream",
     "text": [
      "Epoch 10/50, Loss: 1.9039\n"
     ]
    },
    {
     "name": "stderr",
     "output_type": "stream",
     "text": [
      "Evaluating: 100%|██████████| 5/5 [00:16<00:00,  3.25s/it]\n"
     ]
    },
    {
     "name": "stdout",
     "output_type": "stream",
     "text": [
      "Epoch 10/50, Reconstruction Accuracy: 0.3877\n",
      "Model saved at checkpoints/best_model.pth (Loss: 1.9039, Epoch: 10)\n"
     ]
    },
    {
     "name": "stderr",
     "output_type": "stream",
     "text": [
      "Training Epoch 11/50: 100%|██████████| 40/40 [00:01<00:00, 23.26it/s]\n"
     ]
    },
    {
     "name": "stdout",
     "output_type": "stream",
     "text": [
      "Epoch 11/50, Loss: 1.8759\n"
     ]
    },
    {
     "name": "stderr",
     "output_type": "stream",
     "text": [
      "Evaluating: 100%|██████████| 5/5 [00:04<00:00,  1.19it/s]\n"
     ]
    },
    {
     "name": "stdout",
     "output_type": "stream",
     "text": [
      "Epoch 11/50, Reconstruction Accuracy: 0.4092\n",
      "Model saved at checkpoints/best_model.pth (Loss: 1.8759, Epoch: 11)\n"
     ]
    },
    {
     "name": "stderr",
     "output_type": "stream",
     "text": [
      "Training Epoch 12/50: 100%|██████████| 40/40 [00:01<00:00, 24.97it/s]\n"
     ]
    },
    {
     "name": "stdout",
     "output_type": "stream",
     "text": [
      "Epoch 12/50, Loss: 1.8466\n"
     ]
    },
    {
     "name": "stderr",
     "output_type": "stream",
     "text": [
      "Evaluating: 100%|██████████| 5/5 [00:03<00:00,  1.26it/s]\n"
     ]
    },
    {
     "name": "stdout",
     "output_type": "stream",
     "text": [
      "Epoch 12/50, Reconstruction Accuracy: 0.4077\n",
      "Model saved at checkpoints/best_model.pth (Loss: 1.8466, Epoch: 12)\n"
     ]
    },
    {
     "name": "stderr",
     "output_type": "stream",
     "text": [
      "Training Epoch 13/50: 100%|██████████| 40/40 [00:03<00:00, 11.38it/s]\n"
     ]
    },
    {
     "name": "stdout",
     "output_type": "stream",
     "text": [
      "Epoch 13/50, Loss: 1.8177\n"
     ]
    },
    {
     "name": "stderr",
     "output_type": "stream",
     "text": [
      "Evaluating: 100%|██████████| 5/5 [00:19<00:00,  3.95s/it]\n"
     ]
    },
    {
     "name": "stdout",
     "output_type": "stream",
     "text": [
      "Epoch 13/50, Reconstruction Accuracy: 0.4066\n",
      "Model saved at checkpoints/best_model.pth (Loss: 1.8177, Epoch: 13)\n"
     ]
    },
    {
     "name": "stderr",
     "output_type": "stream",
     "text": [
      "Training Epoch 14/50: 100%|██████████| 40/40 [00:05<00:00,  7.82it/s]\n"
     ]
    },
    {
     "name": "stdout",
     "output_type": "stream",
     "text": [
      "Epoch 14/50, Loss: 1.8016\n"
     ]
    },
    {
     "name": "stderr",
     "output_type": "stream",
     "text": [
      "Evaluating: 100%|██████████| 5/5 [00:30<00:00,  6.04s/it]\n"
     ]
    },
    {
     "name": "stdout",
     "output_type": "stream",
     "text": [
      "Epoch 14/50, Reconstruction Accuracy: 0.3777\n",
      "Model saved at checkpoints/best_model.pth (Loss: 1.8016, Epoch: 14)\n"
     ]
    },
    {
     "name": "stderr",
     "output_type": "stream",
     "text": [
      "Training Epoch 15/50: 100%|██████████| 40/40 [00:05<00:00,  7.19it/s]\n"
     ]
    },
    {
     "name": "stdout",
     "output_type": "stream",
     "text": [
      "Epoch 15/50, Loss: 1.7819\n"
     ]
    },
    {
     "name": "stderr",
     "output_type": "stream",
     "text": [
      "Evaluating: 100%|██████████| 5/5 [00:26<00:00,  5.32s/it]\n"
     ]
    },
    {
     "name": "stdout",
     "output_type": "stream",
     "text": [
      "Epoch 15/50, Reconstruction Accuracy: 0.4041\n",
      "Model saved at checkpoints/best_model.pth (Loss: 1.7819, Epoch: 15)\n"
     ]
    },
    {
     "name": "stderr",
     "output_type": "stream",
     "text": [
      "Training Epoch 16/50: 100%|██████████| 40/40 [00:03<00:00, 10.36it/s]\n"
     ]
    },
    {
     "name": "stdout",
     "output_type": "stream",
     "text": [
      "Epoch 16/50, Loss: 1.7602\n"
     ]
    },
    {
     "name": "stderr",
     "output_type": "stream",
     "text": [
      "Evaluating: 100%|██████████| 5/5 [00:05<00:00,  1.15s/it]\n"
     ]
    },
    {
     "name": "stdout",
     "output_type": "stream",
     "text": [
      "Epoch 16/50, Reconstruction Accuracy: 0.3899\n",
      "Model saved at checkpoints/best_model.pth (Loss: 1.7602, Epoch: 16)\n"
     ]
    },
    {
     "name": "stderr",
     "output_type": "stream",
     "text": [
      "Training Epoch 17/50: 100%|██████████| 40/40 [00:01<00:00, 24.87it/s]\n"
     ]
    },
    {
     "name": "stdout",
     "output_type": "stream",
     "text": [
      "Epoch 17/50, Loss: 1.7461\n"
     ]
    },
    {
     "name": "stderr",
     "output_type": "stream",
     "text": [
      "Evaluating: 100%|██████████| 5/5 [00:08<00:00,  1.67s/it]\n"
     ]
    },
    {
     "name": "stdout",
     "output_type": "stream",
     "text": [
      "Epoch 17/50, Reconstruction Accuracy: 0.3973\n",
      "Model saved at checkpoints/best_model.pth (Loss: 1.7461, Epoch: 17)\n"
     ]
    },
    {
     "name": "stderr",
     "output_type": "stream",
     "text": [
      "Training Epoch 18/50: 100%|██████████| 40/40 [00:04<00:00,  8.47it/s]\n"
     ]
    },
    {
     "name": "stdout",
     "output_type": "stream",
     "text": [
      "Epoch 18/50, Loss: 1.7322\n"
     ]
    },
    {
     "name": "stderr",
     "output_type": "stream",
     "text": [
      "Evaluating: 100%|██████████| 5/5 [00:05<00:00,  1.07s/it]\n"
     ]
    },
    {
     "name": "stdout",
     "output_type": "stream",
     "text": [
      "Epoch 18/50, Reconstruction Accuracy: 0.3871\n",
      "Model saved at checkpoints/best_model.pth (Loss: 1.7322, Epoch: 18)\n"
     ]
    },
    {
     "name": "stderr",
     "output_type": "stream",
     "text": [
      "Training Epoch 19/50: 100%|██████████| 40/40 [00:01<00:00, 21.50it/s]\n"
     ]
    },
    {
     "name": "stdout",
     "output_type": "stream",
     "text": [
      "Epoch 19/50, Loss: 1.7209\n"
     ]
    },
    {
     "name": "stderr",
     "output_type": "stream",
     "text": [
      "Evaluating: 100%|██████████| 5/5 [00:04<00:00,  1.15it/s]\n"
     ]
    },
    {
     "name": "stdout",
     "output_type": "stream",
     "text": [
      "Epoch 19/50, Reconstruction Accuracy: 0.3570\n",
      "Model saved at checkpoints/best_model.pth (Loss: 1.7209, Epoch: 19)\n"
     ]
    },
    {
     "name": "stderr",
     "output_type": "stream",
     "text": [
      "Training Epoch 20/50: 100%|██████████| 40/40 [00:02<00:00, 18.19it/s]\n"
     ]
    },
    {
     "name": "stdout",
     "output_type": "stream",
     "text": [
      "Epoch 20/50, Loss: 1.7116\n"
     ]
    },
    {
     "name": "stderr",
     "output_type": "stream",
     "text": [
      "Evaluating: 100%|██████████| 5/5 [00:04<00:00,  1.16it/s]\n"
     ]
    },
    {
     "name": "stdout",
     "output_type": "stream",
     "text": [
      "Epoch 20/50, Reconstruction Accuracy: 0.3806\n",
      "Model saved at checkpoints/best_model.pth (Loss: 1.7116, Epoch: 20)\n"
     ]
    },
    {
     "name": "stderr",
     "output_type": "stream",
     "text": [
      "Training Epoch 21/50: 100%|██████████| 40/40 [00:02<00:00, 14.12it/s]\n"
     ]
    },
    {
     "name": "stdout",
     "output_type": "stream",
     "text": [
      "Epoch 21/50, Loss: 1.6976\n"
     ]
    },
    {
     "name": "stderr",
     "output_type": "stream",
     "text": [
      "Evaluating: 100%|██████████| 5/5 [00:07<00:00,  1.53s/it]\n"
     ]
    },
    {
     "name": "stdout",
     "output_type": "stream",
     "text": [
      "Epoch 21/50, Reconstruction Accuracy: 0.3886\n",
      "Model saved at checkpoints/best_model.pth (Loss: 1.6976, Epoch: 21)\n"
     ]
    },
    {
     "name": "stderr",
     "output_type": "stream",
     "text": [
      "Training Epoch 22/50: 100%|██████████| 40/40 [00:01<00:00, 21.77it/s]\n"
     ]
    },
    {
     "name": "stdout",
     "output_type": "stream",
     "text": [
      "Epoch 22/50, Loss: 1.6856\n"
     ]
    },
    {
     "name": "stderr",
     "output_type": "stream",
     "text": [
      "Evaluating: 100%|██████████| 5/5 [00:04<00:00,  1.17it/s]\n"
     ]
    },
    {
     "name": "stdout",
     "output_type": "stream",
     "text": [
      "Epoch 22/50, Reconstruction Accuracy: 0.3953\n",
      "Model saved at checkpoints/best_model.pth (Loss: 1.6856, Epoch: 22)\n"
     ]
    },
    {
     "name": "stderr",
     "output_type": "stream",
     "text": [
      "Training Epoch 23/50: 100%|██████████| 40/40 [00:01<00:00, 32.16it/s]\n"
     ]
    },
    {
     "name": "stdout",
     "output_type": "stream",
     "text": [
      "Epoch 23/50, Loss: 1.6738\n"
     ]
    },
    {
     "name": "stderr",
     "output_type": "stream",
     "text": [
      "Evaluating: 100%|██████████| 5/5 [00:03<00:00,  1.29it/s]\n"
     ]
    },
    {
     "name": "stdout",
     "output_type": "stream",
     "text": [
      "Epoch 23/50, Reconstruction Accuracy: 0.3576\n",
      "Model saved at checkpoints/best_model.pth (Loss: 1.6738, Epoch: 23)\n"
     ]
    },
    {
     "name": "stderr",
     "output_type": "stream",
     "text": [
      "Training Epoch 24/50: 100%|██████████| 40/40 [00:01<00:00, 28.56it/s]\n"
     ]
    },
    {
     "name": "stdout",
     "output_type": "stream",
     "text": [
      "Epoch 24/50, Loss: 1.6620\n"
     ]
    },
    {
     "name": "stderr",
     "output_type": "stream",
     "text": [
      "Evaluating: 100%|██████████| 5/5 [00:04<00:00,  1.11it/s]\n"
     ]
    },
    {
     "name": "stdout",
     "output_type": "stream",
     "text": [
      "Epoch 24/50, Reconstruction Accuracy: 0.4028\n",
      "Model saved at checkpoints/best_model.pth (Loss: 1.6620, Epoch: 24)\n"
     ]
    },
    {
     "name": "stderr",
     "output_type": "stream",
     "text": [
      "Training Epoch 25/50: 100%|██████████| 40/40 [00:02<00:00, 17.32it/s]\n"
     ]
    },
    {
     "name": "stdout",
     "output_type": "stream",
     "text": [
      "Epoch 25/50, Loss: 1.6506\n"
     ]
    },
    {
     "name": "stderr",
     "output_type": "stream",
     "text": [
      "Evaluating: 100%|██████████| 5/5 [00:04<00:00,  1.24it/s]\n"
     ]
    },
    {
     "name": "stdout",
     "output_type": "stream",
     "text": [
      "Epoch 25/50, Reconstruction Accuracy: 0.3892\n",
      "Model saved at checkpoints/best_model.pth (Loss: 1.6506, Epoch: 25)\n"
     ]
    },
    {
     "name": "stderr",
     "output_type": "stream",
     "text": [
      "Training Epoch 26/50: 100%|██████████| 40/40 [00:01<00:00, 22.01it/s]\n"
     ]
    },
    {
     "name": "stdout",
     "output_type": "stream",
     "text": [
      "Epoch 26/50, Loss: 1.6418\n"
     ]
    },
    {
     "name": "stderr",
     "output_type": "stream",
     "text": [
      "Evaluating: 100%|██████████| 5/5 [00:03<00:00,  1.35it/s]\n"
     ]
    },
    {
     "name": "stdout",
     "output_type": "stream",
     "text": [
      "Epoch 26/50, Reconstruction Accuracy: 0.3990\n",
      "Model saved at checkpoints/best_model.pth (Loss: 1.6418, Epoch: 26)\n"
     ]
    },
    {
     "name": "stderr",
     "output_type": "stream",
     "text": [
      "Training Epoch 27/50: 100%|██████████| 40/40 [00:03<00:00, 10.38it/s]\n"
     ]
    },
    {
     "name": "stdout",
     "output_type": "stream",
     "text": [
      "Epoch 27/50, Loss: 1.6335\n"
     ]
    },
    {
     "name": "stderr",
     "output_type": "stream",
     "text": [
      "Evaluating: 100%|██████████| 5/5 [00:11<00:00,  2.25s/it]\n"
     ]
    },
    {
     "name": "stdout",
     "output_type": "stream",
     "text": [
      "Epoch 27/50, Reconstruction Accuracy: 0.3921\n",
      "Model saved at checkpoints/best_model.pth (Loss: 1.6335, Epoch: 27)\n"
     ]
    },
    {
     "name": "stderr",
     "output_type": "stream",
     "text": [
      "Training Epoch 28/50: 100%|██████████| 40/40 [00:01<00:00, 23.90it/s]\n"
     ]
    },
    {
     "name": "stdout",
     "output_type": "stream",
     "text": [
      "Epoch 28/50, Loss: 1.6245\n"
     ]
    },
    {
     "name": "stderr",
     "output_type": "stream",
     "text": [
      "Evaluating: 100%|██████████| 5/5 [00:05<00:00,  1.19s/it]\n"
     ]
    },
    {
     "name": "stdout",
     "output_type": "stream",
     "text": [
      "Epoch 28/50, Reconstruction Accuracy: 0.3755\n",
      "Model saved at checkpoints/best_model.pth (Loss: 1.6245, Epoch: 28)\n"
     ]
    },
    {
     "name": "stderr",
     "output_type": "stream",
     "text": [
      "Training Epoch 29/50: 100%|██████████| 40/40 [00:01<00:00, 34.62it/s]\n"
     ]
    },
    {
     "name": "stdout",
     "output_type": "stream",
     "text": [
      "Epoch 29/50, Loss: 1.6180\n"
     ]
    },
    {
     "name": "stderr",
     "output_type": "stream",
     "text": [
      "Evaluating: 100%|██████████| 5/5 [00:09<00:00,  1.81s/it]\n"
     ]
    },
    {
     "name": "stdout",
     "output_type": "stream",
     "text": [
      "Epoch 29/50, Reconstruction Accuracy: 0.3629\n",
      "Model saved at checkpoints/best_model.pth (Loss: 1.6180, Epoch: 29)\n"
     ]
    },
    {
     "name": "stderr",
     "output_type": "stream",
     "text": [
      "Training Epoch 30/50: 100%|██████████| 40/40 [00:02<00:00, 13.59it/s]\n"
     ]
    },
    {
     "name": "stdout",
     "output_type": "stream",
     "text": [
      "Epoch 30/50, Loss: 1.6114\n"
     ]
    },
    {
     "name": "stderr",
     "output_type": "stream",
     "text": [
      "Evaluating: 100%|██████████| 5/5 [00:09<00:00,  1.94s/it]\n"
     ]
    },
    {
     "name": "stdout",
     "output_type": "stream",
     "text": [
      "Epoch 30/50, Reconstruction Accuracy: 0.3780\n",
      "Model saved at checkpoints/best_model.pth (Loss: 1.6114, Epoch: 30)\n"
     ]
    },
    {
     "name": "stderr",
     "output_type": "stream",
     "text": [
      "Training Epoch 31/50: 100%|██████████| 40/40 [00:02<00:00, 19.75it/s]\n"
     ]
    },
    {
     "name": "stdout",
     "output_type": "stream",
     "text": [
      "Epoch 31/50, Loss: 1.6024\n"
     ]
    },
    {
     "name": "stderr",
     "output_type": "stream",
     "text": [
      "Evaluating: 100%|██████████| 5/5 [00:10<00:00,  2.14s/it]\n"
     ]
    },
    {
     "name": "stdout",
     "output_type": "stream",
     "text": [
      "Epoch 31/50, Reconstruction Accuracy: 0.3910\n",
      "Model saved at checkpoints/best_model.pth (Loss: 1.6024, Epoch: 31)\n"
     ]
    },
    {
     "name": "stderr",
     "output_type": "stream",
     "text": [
      "Training Epoch 32/50: 100%|██████████| 40/40 [00:01<00:00, 35.50it/s]\n"
     ]
    },
    {
     "name": "stdout",
     "output_type": "stream",
     "text": [
      "Epoch 32/50, Loss: 1.5915\n"
     ]
    },
    {
     "name": "stderr",
     "output_type": "stream",
     "text": [
      "Evaluating: 100%|██████████| 5/5 [00:08<00:00,  1.67s/it]\n"
     ]
    },
    {
     "name": "stdout",
     "output_type": "stream",
     "text": [
      "Epoch 32/50, Reconstruction Accuracy: 0.3693\n",
      "Model saved at checkpoints/best_model.pth (Loss: 1.5915, Epoch: 32)\n"
     ]
    },
    {
     "name": "stderr",
     "output_type": "stream",
     "text": [
      "Training Epoch 33/50: 100%|██████████| 40/40 [00:03<00:00, 11.37it/s]\n"
     ]
    },
    {
     "name": "stdout",
     "output_type": "stream",
     "text": [
      "Epoch 33/50, Loss: 1.5919\n"
     ]
    },
    {
     "name": "stderr",
     "output_type": "stream",
     "text": [
      "Evaluating: 100%|██████████| 5/5 [00:26<00:00,  5.30s/it]\n"
     ]
    },
    {
     "name": "stdout",
     "output_type": "stream",
     "text": [
      "Epoch 33/50, Reconstruction Accuracy: 0.3802\n"
     ]
    },
    {
     "name": "stderr",
     "output_type": "stream",
     "text": [
      "Training Epoch 34/50: 100%|██████████| 40/40 [00:05<00:00,  7.79it/s]\n"
     ]
    },
    {
     "name": "stdout",
     "output_type": "stream",
     "text": [
      "Epoch 34/50, Loss: 1.5799\n"
     ]
    },
    {
     "name": "stderr",
     "output_type": "stream",
     "text": [
      "Evaluating: 100%|██████████| 5/5 [00:04<00:00,  1.21it/s]\n"
     ]
    },
    {
     "name": "stdout",
     "output_type": "stream",
     "text": [
      "Epoch 34/50, Reconstruction Accuracy: 0.3997\n",
      "Model saved at checkpoints/best_model.pth (Loss: 1.5799, Epoch: 34)\n"
     ]
    },
    {
     "name": "stderr",
     "output_type": "stream",
     "text": [
      "Training Epoch 35/50: 100%|██████████| 40/40 [00:04<00:00,  8.12it/s]\n"
     ]
    },
    {
     "name": "stdout",
     "output_type": "stream",
     "text": [
      "Epoch 35/50, Loss: 1.5680\n"
     ]
    },
    {
     "name": "stderr",
     "output_type": "stream",
     "text": [
      "Evaluating: 100%|██████████| 5/5 [00:04<00:00,  1.20it/s]\n"
     ]
    },
    {
     "name": "stdout",
     "output_type": "stream",
     "text": [
      "Epoch 35/50, Reconstruction Accuracy: 0.3941\n",
      "Model saved at checkpoints/best_model.pth (Loss: 1.5680, Epoch: 35)\n"
     ]
    },
    {
     "name": "stderr",
     "output_type": "stream",
     "text": [
      "Training Epoch 36/50: 100%|██████████| 40/40 [00:01<00:00, 29.07it/s]\n"
     ]
    },
    {
     "name": "stdout",
     "output_type": "stream",
     "text": [
      "Epoch 36/50, Loss: 1.5595\n"
     ]
    },
    {
     "name": "stderr",
     "output_type": "stream",
     "text": [
      "Evaluating: 100%|██████████| 5/5 [00:15<00:00,  3.20s/it]\n"
     ]
    },
    {
     "name": "stdout",
     "output_type": "stream",
     "text": [
      "Epoch 36/50, Reconstruction Accuracy: 0.3753\n",
      "Model saved at checkpoints/best_model.pth (Loss: 1.5595, Epoch: 36)\n"
     ]
    },
    {
     "name": "stderr",
     "output_type": "stream",
     "text": [
      "Training Epoch 37/50: 100%|██████████| 40/40 [00:05<00:00,  6.88it/s]\n"
     ]
    },
    {
     "name": "stdout",
     "output_type": "stream",
     "text": [
      "Epoch 37/50, Loss: 1.5540\n"
     ]
    },
    {
     "name": "stderr",
     "output_type": "stream",
     "text": [
      "Evaluating: 100%|██████████| 5/5 [00:12<00:00,  2.56s/it]\n"
     ]
    },
    {
     "name": "stdout",
     "output_type": "stream",
     "text": [
      "Epoch 37/50, Reconstruction Accuracy: 0.3858\n",
      "Model saved at checkpoints/best_model.pth (Loss: 1.5540, Epoch: 37)\n"
     ]
    },
    {
     "name": "stderr",
     "output_type": "stream",
     "text": [
      "Training Epoch 38/50: 100%|██████████| 40/40 [00:03<00:00, 13.10it/s]\n"
     ]
    },
    {
     "name": "stdout",
     "output_type": "stream",
     "text": [
      "Epoch 38/50, Loss: 1.5497\n"
     ]
    },
    {
     "name": "stderr",
     "output_type": "stream",
     "text": [
      "Evaluating: 100%|██████████| 5/5 [00:04<00:00,  1.23it/s]\n"
     ]
    },
    {
     "name": "stdout",
     "output_type": "stream",
     "text": [
      "Epoch 38/50, Reconstruction Accuracy: 0.3702\n",
      "Model saved at checkpoints/best_model.pth (Loss: 1.5497, Epoch: 38)\n"
     ]
    },
    {
     "name": "stderr",
     "output_type": "stream",
     "text": [
      "Training Epoch 39/50: 100%|██████████| 40/40 [00:02<00:00, 18.30it/s]\n"
     ]
    },
    {
     "name": "stdout",
     "output_type": "stream",
     "text": [
      "Epoch 39/50, Loss: 1.5464\n"
     ]
    },
    {
     "name": "stderr",
     "output_type": "stream",
     "text": [
      "Evaluating: 100%|██████████| 5/5 [00:03<00:00,  1.30it/s]\n"
     ]
    },
    {
     "name": "stdout",
     "output_type": "stream",
     "text": [
      "Epoch 39/50, Reconstruction Accuracy: 0.3885\n",
      "Model saved at checkpoints/best_model.pth (Loss: 1.5464, Epoch: 39)\n"
     ]
    },
    {
     "name": "stderr",
     "output_type": "stream",
     "text": [
      "Training Epoch 40/50: 100%|██████████| 40/40 [00:02<00:00, 16.45it/s]\n"
     ]
    },
    {
     "name": "stdout",
     "output_type": "stream",
     "text": [
      "Epoch 40/50, Loss: 1.5343\n"
     ]
    },
    {
     "name": "stderr",
     "output_type": "stream",
     "text": [
      "Evaluating: 100%|██████████| 5/5 [00:11<00:00,  2.30s/it]\n"
     ]
    },
    {
     "name": "stdout",
     "output_type": "stream",
     "text": [
      "Epoch 40/50, Reconstruction Accuracy: 0.3735\n",
      "Model saved at checkpoints/best_model.pth (Loss: 1.5343, Epoch: 40)\n"
     ]
    },
    {
     "name": "stderr",
     "output_type": "stream",
     "text": [
      "Training Epoch 41/50: 100%|██████████| 40/40 [00:05<00:00,  7.48it/s]\n"
     ]
    },
    {
     "name": "stdout",
     "output_type": "stream",
     "text": [
      "Epoch 41/50, Loss: 1.5238\n"
     ]
    },
    {
     "name": "stderr",
     "output_type": "stream",
     "text": [
      "Evaluating: 100%|██████████| 5/5 [00:05<00:00,  1.18s/it]\n"
     ]
    },
    {
     "name": "stdout",
     "output_type": "stream",
     "text": [
      "Epoch 41/50, Reconstruction Accuracy: 0.3937\n",
      "Model saved at checkpoints/best_model.pth (Loss: 1.5238, Epoch: 41)\n"
     ]
    },
    {
     "name": "stderr",
     "output_type": "stream",
     "text": [
      "Training Epoch 42/50: 100%|██████████| 40/40 [00:02<00:00, 17.53it/s]\n"
     ]
    },
    {
     "name": "stdout",
     "output_type": "stream",
     "text": [
      "Epoch 42/50, Loss: 1.5245\n"
     ]
    },
    {
     "name": "stderr",
     "output_type": "stream",
     "text": [
      "Evaluating: 100%|██████████| 5/5 [00:04<00:00,  1.25it/s]\n"
     ]
    },
    {
     "name": "stdout",
     "output_type": "stream",
     "text": [
      "Epoch 42/50, Reconstruction Accuracy: 0.3540\n"
     ]
    },
    {
     "name": "stderr",
     "output_type": "stream",
     "text": [
      "Training Epoch 43/50: 100%|██████████| 40/40 [00:02<00:00, 14.54it/s]\n"
     ]
    },
    {
     "name": "stdout",
     "output_type": "stream",
     "text": [
      "Epoch 43/50, Loss: 1.5153\n"
     ]
    },
    {
     "name": "stderr",
     "output_type": "stream",
     "text": [
      "Evaluating: 100%|██████████| 5/5 [00:12<00:00,  2.42s/it]\n"
     ]
    },
    {
     "name": "stdout",
     "output_type": "stream",
     "text": [
      "Epoch 43/50, Reconstruction Accuracy: 0.3485\n",
      "Model saved at checkpoints/best_model.pth (Loss: 1.5153, Epoch: 43)\n"
     ]
    },
    {
     "name": "stderr",
     "output_type": "stream",
     "text": [
      "Training Epoch 44/50: 100%|██████████| 40/40 [00:03<00:00, 11.21it/s]\n"
     ]
    },
    {
     "name": "stdout",
     "output_type": "stream",
     "text": [
      "Epoch 44/50, Loss: 1.5078\n"
     ]
    },
    {
     "name": "stderr",
     "output_type": "stream",
     "text": [
      "Evaluating: 100%|██████████| 5/5 [00:04<00:00,  1.24it/s]\n"
     ]
    },
    {
     "name": "stdout",
     "output_type": "stream",
     "text": [
      "Epoch 44/50, Reconstruction Accuracy: 0.3597\n",
      "Model saved at checkpoints/best_model.pth (Loss: 1.5078, Epoch: 44)\n"
     ]
    },
    {
     "name": "stderr",
     "output_type": "stream",
     "text": [
      "Training Epoch 45/50: 100%|██████████| 40/40 [00:03<00:00, 12.87it/s]\n"
     ]
    },
    {
     "name": "stdout",
     "output_type": "stream",
     "text": [
      "Epoch 45/50, Loss: 1.5080\n"
     ]
    },
    {
     "name": "stderr",
     "output_type": "stream",
     "text": [
      "Evaluating: 100%|██████████| 5/5 [00:03<00:00,  1.27it/s]\n"
     ]
    },
    {
     "name": "stdout",
     "output_type": "stream",
     "text": [
      "Epoch 45/50, Reconstruction Accuracy: 0.3434\n"
     ]
    },
    {
     "name": "stderr",
     "output_type": "stream",
     "text": [
      "Training Epoch 46/50: 100%|██████████| 40/40 [00:01<00:00, 22.84it/s]\n"
     ]
    },
    {
     "name": "stdout",
     "output_type": "stream",
     "text": [
      "Epoch 46/50, Loss: 1.4956\n"
     ]
    },
    {
     "name": "stderr",
     "output_type": "stream",
     "text": [
      "Evaluating: 100%|██████████| 5/5 [00:19<00:00,  4.00s/it]\n"
     ]
    },
    {
     "name": "stdout",
     "output_type": "stream",
     "text": [
      "Epoch 46/50, Reconstruction Accuracy: 0.3615\n",
      "Model saved at checkpoints/best_model.pth (Loss: 1.4956, Epoch: 46)\n"
     ]
    },
    {
     "name": "stderr",
     "output_type": "stream",
     "text": [
      "Training Epoch 47/50: 100%|██████████| 40/40 [00:01<00:00, 21.03it/s]\n"
     ]
    },
    {
     "name": "stdout",
     "output_type": "stream",
     "text": [
      "Epoch 47/50, Loss: 1.4835\n"
     ]
    },
    {
     "name": "stderr",
     "output_type": "stream",
     "text": [
      "Evaluating: 100%|██████████| 5/5 [00:03<00:00,  1.29it/s]\n"
     ]
    },
    {
     "name": "stdout",
     "output_type": "stream",
     "text": [
      "Epoch 47/50, Reconstruction Accuracy: 0.3661\n",
      "Model saved at checkpoints/best_model.pth (Loss: 1.4835, Epoch: 47)\n"
     ]
    },
    {
     "name": "stderr",
     "output_type": "stream",
     "text": [
      "Training Epoch 48/50: 100%|██████████| 40/40 [00:02<00:00, 13.40it/s]\n"
     ]
    },
    {
     "name": "stdout",
     "output_type": "stream",
     "text": [
      "Epoch 48/50, Loss: 1.4763\n"
     ]
    },
    {
     "name": "stderr",
     "output_type": "stream",
     "text": [
      "Evaluating: 100%|██████████| 5/5 [00:05<00:00,  1.03s/it]\n"
     ]
    },
    {
     "name": "stdout",
     "output_type": "stream",
     "text": [
      "Epoch 48/50, Reconstruction Accuracy: 0.3444\n",
      "Model saved at checkpoints/best_model.pth (Loss: 1.4763, Epoch: 48)\n"
     ]
    },
    {
     "name": "stderr",
     "output_type": "stream",
     "text": [
      "Training Epoch 49/50: 100%|██████████| 40/40 [00:02<00:00, 17.57it/s]\n"
     ]
    },
    {
     "name": "stdout",
     "output_type": "stream",
     "text": [
      "Epoch 49/50, Loss: 1.4706\n"
     ]
    },
    {
     "name": "stderr",
     "output_type": "stream",
     "text": [
      "Evaluating: 100%|██████████| 5/5 [00:22<00:00,  4.51s/it]\n"
     ]
    },
    {
     "name": "stdout",
     "output_type": "stream",
     "text": [
      "Epoch 49/50, Reconstruction Accuracy: 0.3299\n",
      "Model saved at checkpoints/best_model.pth (Loss: 1.4706, Epoch: 49)\n"
     ]
    },
    {
     "name": "stderr",
     "output_type": "stream",
     "text": [
      "Training Epoch 50/50: 100%|██████████| 40/40 [00:01<00:00, 25.72it/s]\n"
     ]
    },
    {
     "name": "stdout",
     "output_type": "stream",
     "text": [
      "Epoch 50/50, Loss: 1.4599\n"
     ]
    },
    {
     "name": "stderr",
     "output_type": "stream",
     "text": [
      "Evaluating: 100%|██████████| 5/5 [00:15<00:00,  3.02s/it]"
     ]
    },
    {
     "name": "stdout",
     "output_type": "stream",
     "text": [
      "Epoch 50/50, Reconstruction Accuracy: 0.3384\n",
      "Model saved at checkpoints/best_model.pth (Loss: 1.4599, Epoch: 50)\n"
     ]
    },
    {
     "name": "stderr",
     "output_type": "stream",
     "text": [
      "\n"
     ]
    }
   ],
   "source": [
    "# Create save directory if it doesn't exist\n",
    "os.makedirs(save_dir, exist_ok=True)\n",
    "# Initialize best loss as positive infinity for comparison during model checkpointing\n",
    "best_loss: float = float('inf')\n",
    "checkpoint = torch.load(\"checkpoints/best_model.pth\", map_location=\"cpu\")\n",
    "#model.load_state_dict(checkpoint['model_state_dict'])\n",
    "# Move model to the appropriate device (GPU or CPU)\n",
    "model.to(device)\n",
    "\n",
    "# Training Loop\n",
    "for epoch in range(epochs):\n",
    "    model.train()  # Set the model to training mode\n",
    "    epoch_loss = 0  # Initialize the epoch loss\n",
    "\n",
    "    # Iterate over training data batches\n",
    "    for input_ids, labels in tqdm(train_dataloader, desc=f\"Training Epoch {epoch + 1}/{epochs}\"):\n",
    "        input_ids, labels = input_ids.to(device), labels.to(device)  # Move data to the same device as the model\n",
    "\n",
    "        # Forward pass through the model to get logits (output probabilities)\n",
    "        outputs = model(input_ids=input_ids).logits.view(-1, config.vocab_size)\n",
    "        labels = labels.view(-1)  # Flatten labels to match logits shape\n",
    "\n",
    "        # Calculate loss using CrossEntropyLoss\n",
    "        loss = criterion(outputs, labels)\n",
    "\n",
    "        # Backpropagation and optimizer step\n",
    "        optimizer.zero_grad()  # Reset gradients to zero\n",
    "        loss.backward()     # Compute gradients\n",
    "        optimizer.step()     # Update model weights\n",
    "\n",
    "        # Accumulate the loss for the epoch\n",
    "        epoch_loss += loss.item()\n",
    "\n",
    "    # Compute average epoch loss\n",
    "    avg_epoch_loss = epoch_loss / len(train_dataloader)\n",
    "    print(f\"Epoch {epoch + 1}/{epochs}, Loss: {avg_epoch_loss:.4f}\")\n",
    "\n",
    "    # Evaluation Loop (Validation)\n",
    "    model.eval()      # Set the model to evaluation mode (disables dropout, etc.)\n",
    "    total_accuracy = 0  # Initialize total accuracy\n",
    "    num_batches = 0   # Initialize batch counter\n",
    "\n",
    "    with torch.no_grad():  # Disable gradient calculation for validation\n",
    "        # Iterate over validation data batches\n",
    "        for inputs, labels in tqdm(dev_dataloader, desc=\"Evaluating\"):\n",
    "            inputs, labels = inputs.to(device), labels.to(device)  # Move validation data to device\n",
    "            attention_mask = torch.ones_like(inputs)          # Attention mask to ensure valid token positions\n",
    "\n",
    "            # Perform batch inference using the model\n",
    "            generated_outputs = model.generate(inputs, attention_mask=attention_mask, max_length=400)\n",
    "\n",
    "            # Extract the last 160 tokens from generated outputs and labels\n",
    "            generated_outputs = generated_outputs[:, -160:]\n",
    "\n",
    "            # Calculate accuracy for the batch\n",
    "            accuracy = (generated_outputs == labels).float().mean().item()\n",
    "            total_accuracy += accuracy\n",
    "            num_batches += 1\n",
    "\n",
    "    # Compute average reconstruction accuracy for the epoch\n",
    "    avg_accuracy = total_accuracy / num_batches\n",
    "    print(f\"Epoch {epoch + 1}/{epochs}, Reconstruction Accuracy: {avg_accuracy:.4f}\")\n",
    "\n",
    "    # If the current epoch loss is better (lower) than the best loss, save the model\n",
    "    if avg_epoch_loss < best_loss:\n",
    "        best_loss = avg_epoch_loss                   # Update best loss\n",
    "        save_model(model, optimizer, epoch, best_loss, save_dir)  # Save the model with the best loss"
   ]
  },
  {
   "cell_type": "markdown",
   "metadata": {
    "id": "mNEXUdGBo5eK"
   },
   "source": [
    "### Inference"
   ]
  },
  {
   "cell_type": "code",
   "execution_count": 27,
   "metadata": {},
   "outputs": [
    {
     "name": "stderr",
     "output_type": "stream",
     "text": [
      "Generating Outputs: 100%|██████████| 5/5 [00:08<00:00,  1.75s/it]"
     ]
    },
    {
     "name": "stdout",
     "output_type": "stream",
     "text": [
      "Reconstructed results saved to reconstructed_results.txt\n"
     ]
    },
    {
     "name": "stderr",
     "output_type": "stream",
     "text": [
      "\n"
     ]
    }
   ],
   "source": [
    "# Load the best model from the saved checkpoint\n",
    "best_model_path = os.path.join(save_dir, \"best_model.pth\")              # Path to the best model checkpoint\n",
    "checkpoint = torch.load(best_model_path, weights_only=True, map_location=device)  # Load checkpoint from the file\n",
    "model.load_state_dict(checkpoint[\"model_state_dict\"])                  # Load the model weights from checkpoint\n",
    "model.eval()                                        # Set the model to evaluation mode (disables dropout, etc.)\n",
    "\n",
    "# Testing Loop with Batch Inference\n",
    "results: list = []  # List to store the generated sequences from the model\n",
    "\n",
    "with torch.no_grad():  # Disable gradient calculations for inference\n",
    "    # Iterate over test data in batches\n",
    "    for inputs in tqdm(test_dataloader, desc=\"Generating Outputs\"):\n",
    "        inputs = inputs.to(device)         # Move model to the appropriate device (GPU or CPU)\n",
    "        attention_mask = torch.ones_like(inputs)  # Attention mask (ensure valid token positions)\n",
    "\n",
    "        # Generate predictions for the entire batch\n",
    "        generated_outputs = model.generate(inputs, attention_mask=attention_mask, max_length=400)\n",
    "\n",
    "        # Convert batch outputs to a list and append to results\n",
    "        batch_results = generated_outputs.cpu().numpy().tolist()\n",
    "        results.extend(batch_results)  # Extend the results list with batch results\n",
    "\n",
    "# Save the results to a file\n",
    "output_file: str = \"reconstructed_results.txt\"  # File to save the output sequences\n",
    "with open(output_file, \"w\") as f:\n",
    "    # Write each sequence to the file\n",
    "    for seq in results:\n",
    "        f.write(\" \".join(map(str, seq)) + \"\\n\")\n",
    "\n",
    "print(f\"Reconstructed results saved to {output_file}\")  # Confirmation message"
   ]
  },
  {
   "cell_type": "code",
   "execution_count": 28,
   "metadata": {},
   "outputs": [
    {
     "data": {
      "image/png": "[encoded data removed]",
      "text/plain": [
       "<Figure size 1600x600 with 96 Axes>"
      ]
     },
     "metadata": {},
     "output_type": "display_data"
    }
   ],
   "source": [
    "# Visualize generated test images\n",
    "predicted_images = [pixel_to_image(sequence, colormap) for sequence in results]\n",
    "show_images(predicted_images)"
   ]
  },
  {
   "cell_type": "code",
   "execution_count": 29,
   "metadata": {},
   "outputs": [],
   "source": [
    "import os\n",
    "from PIL import Image\n",
    "\n",
    "def save_images_to_folder(images, folder, prefix=\"img\"):\n",
    "    \"\"\"\n",
    "    将一批 PIL.Image 保存到文件夹\n",
    "\n",
    "    Args:\n",
    "        images (list[PIL.Image]): 图像列表\n",
    "        folder (str): 保存目录\n",
    "        prefix (str): 文件名前缀\n",
    "    \"\"\"\n",
    "    os.makedirs(folder, exist_ok=True)\n",
    "    \n",
    "    for i, img in enumerate(images):\n",
    "        path = os.path.join(folder, f\"{prefix}_{i:05d}.png\")\n",
    "        img.save(path)\n",
    "\n",
    "    print(f\"✅ Saved {len(images)} images to {folder}\")"
   ]
  },
  {
   "cell_type": "code",
   "execution_count": 30,
   "metadata": {},
   "outputs": [
    {
     "name": "stdout",
     "output_type": "stream",
     "text": [
      "✅ Saved 80 images to pred_images\n"
     ]
    }
   ],
   "source": [
    "save_images_to_folder(predicted_images, \"pred_images\", prefix=\"pred\")"
   ]
  }
 ],
 "metadata": {
  "language_info": {
   "name": "python"
  }
 },
 "nbformat": 4,
 "nbformat_minor": 0
}
